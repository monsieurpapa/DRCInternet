{
 "cells": [
  {
   "cell_type": "code",
   "execution_count": 1,
   "id": "d9573b3c",
   "metadata": {},
   "outputs": [],
   "source": [
    "import pandas as pd\n",
    "import numpy as np\n",
    "import matplotlib as mpl\n",
    "import matplotlib.pyplot as plt\n",
    "import matplotlib.patches as mpatches\n",
    "import warnings; warnings.simplefilter('ignore')"
   ]
  },
  {
   "cell_type": "code",
   "execution_count": 2,
   "id": "875d7bc7",
   "metadata": {},
   "outputs": [
    {
     "name": "stdout",
     "output_type": "stream",
     "text": [
      "The total number of responses received is 82.\n",
      "\n"
     ]
    }
   ],
   "source": [
    "file = pd.read_csv('results_survey.csv', sep =',')\n",
    "print(\"The total number of responses received is {}.\\n\".format(len(file)))"
   ]
  },
  {
   "cell_type": "code",
   "execution_count": 3,
   "id": "75c15655",
   "metadata": {},
   "outputs": [
    {
     "data": {
      "text/plain": [
       "Index(['ID de la réponse', 'Date de soumission', 'Dernière page',\n",
       "       'Langue de départ', 'Tête de série', 'Date de lancement',\n",
       "       'Date de la dernière action', 'Adresse IP', 'URL référente',\n",
       "       'Nom &amp; Post-nom /Firstname and Surname',\n",
       "       ...\n",
       "       'Durée pour la question: conn08', 'Durée pour la question: conn09',\n",
       "       'Durée pour la question: conn10', 'Durée pour la question: conn11',\n",
       "       'Durée pour le groupe : MESURAGE D'INTERNET',\n",
       "       'Durée pour la question: meas01', 'Durée pour la question: meas02',\n",
       "       'Durée pour la question: meas03', 'Durée pour la question: meas04',\n",
       "       'Durée pour la question: meas05'],\n",
       "      dtype='object', length=205)"
      ]
     },
     "execution_count": 3,
     "metadata": {},
     "output_type": "execute_result"
    }
   ],
   "source": [
    "file.columns"
   ]
  },
  {
   "cell_type": "code",
   "execution_count": 4,
   "id": "64a29f75",
   "metadata": {},
   "outputs": [],
   "source": [
    "file = file.drop(file.filter(regex='Durée').columns, axis=1)\n",
    "file = file.drop(file.filter(regex='URL').columns, axis=1)\n",
    "file = file.drop(file.columns[[range(0,7)]], axis=1)\n"
   ]
  },
  {
   "cell_type": "code",
   "execution_count": 5,
   "id": "a84ccb86",
   "metadata": {},
   "outputs": [],
   "source": [
    "file.rename(columns={file.columns[0]: 'IP'\n",
    "                    , file.columns[1]: 'names'\\\n",
    "                    , file.columns[2]: 'genderM'\\\n",
    "                    ,file.columns[3]: 'genderF'\\\n",
    "                    ,file.columns[4]: 'otherGender'\\\n",
    "                     ,file.columns[5]: 'noAgegroup'\\\n",
    "                     ,file.columns[6]: 'age18_25'\\\n",
    "                     ,file.columns[7]: 'age26_35'\\\n",
    "                     ,file.columns[8]: 'age36_45'\\\n",
    "                     ,file.columns[9]: 'age46_55'\\\n",
    "                     ,file.columns[10]: 'age56+'\\\n",
    "                     ,file.columns[37]: 'town'\\\n",
    "                     , file.columns[38]: 'student'\\\n",
    "                     , file.columns[39]: 'self_employed'\\\n",
    "                     ,file.columns[40]: 'employed'\\\n",
    "                     ,file.columns[41]: 'unemployed'\\\n",
    "                     ,file.columns[42]: 'otherOccupation'\\\n",
    "                     ,file.columns[99]: 'speedtest_veryconcerned'\\\n",
    "                     ,file.columns[100]: 'speedtest_concerned'\\\n",
    "                     ,file.columns[101]: 'speedtest_notconcerned'\\\n",
    "                     ,file.columns[102]: 'speedtest_dontcare'\\\n",
    "                     ,file.columns[103]: 'internet_verysatisfied'\\\n",
    "                     ,file.columns[105]: 'internet_satisfied'\\\n",
    "                     ,file.columns[107]: 'internet_neutral'\\\n",
    "                     ,file.columns[109]: 'internet_dissatisfied'\\\n",
    "                     ,file.columns[111]: 'internet_verydissastisfied'\\\n",
    "                     ,file.columns[131]: 'promise1_3mbps'\\\n",
    "                     ,file.columns[132]: 'promise5_10mbps'\\\n",
    "                     ,file.columns[133]: 'promiseless_25mbps'\\\n",
    "                     ,file.columns[134]: 'promisemore_1gbps'\\\n",
    "                     ,file.columns[135]: 'promise_notaware'\\\n",
    "                     ,file.columns[136]: 'percievedspeed1_3mbps'\\\n",
    "                     ,file.columns[137]: 'percievedspeed5_10mbps'\\\n",
    "                     ,file.columns[138]: 'percievedspeed_25mbps'\\\n",
    "                     ,file.columns[139]: 'percievedspeed_1gbps'\\\n",
    "                     ,file.columns[140]: 'percievedspeed_notaware'\\\n",
    "                     \n",
    "                     \n",
    "                     \n",
    "                     \n",
    "                     \n",
    "                    }, inplace=True)\n"
   ]
  },
  {
   "cell_type": "code",
   "execution_count": 6,
   "id": "c281925c",
   "metadata": {},
   "outputs": [
    {
     "name": "stdout",
     "output_type": "stream",
     "text": [
      "Total Number of responses: 82\n",
      "Number of towns that responded: 12\n",
      "Responses with no country specified: 0\n",
      "\n"
     ]
    }
   ],
   "source": [
    "#count the responses and the towns \n",
    "df = file\n",
    "print(\"Total Number of responses: {}\".format(len(df)))\n",
    "print(\"Number of towns that responded: {}\".format(len(df['town'].value_counts())))#minus 1 of 'Other'\n",
    "print(\"Responses with no country specified: {}\\n\".format(len(df[df['town'] == \"\"])))"
   ]
  },
  {
   "cell_type": "code",
   "execution_count": 7,
   "id": "3af9b660",
   "metadata": {},
   "outputs": [
    {
     "name": "stdout",
     "output_type": "stream",
     "text": [
      "Total number participants are unaware of their promised speeds: 28 or 34.15% of all responses\n"
     ]
    }
   ],
   "source": [
    "# #participants who are unaware of their promissed speeds\n",
    "runm = len(df[['student', 'self_employed', 'employed','unemployed','otherOccupation']][df['promise_notaware']==\"Oui\"])\n",
    "runperc = round(runm/len(df)*100, 2)\n",
    "print(\"Total number participants are unaware of their promised speeds: {} or {}% of all responses\"\\\n",
    "      .format(runm, runperc))"
   ]
  },
  {
   "cell_type": "code",
   "execution_count": 8,
   "id": "e2a23162",
   "metadata": {},
   "outputs": [],
   "source": [
    "#percent of elements\n",
    "def calc_percent(element, df):\n",
    "    percentage = round(element/len(df)*100, 2)\n",
    "    return percentage"
   ]
  },
  {
   "cell_type": "code",
   "execution_count": null,
   "id": "f0d23c27",
   "metadata": {},
   "outputs": [],
   "source": []
  },
  {
   "cell_type": "code",
   "execution_count": 9,
   "id": "7a70adfb",
   "metadata": {},
   "outputs": [
    {
     "name": "stdout",
     "output_type": "stream",
     "text": [
      " Participants per occupation: '\n",
      "'\n",
      "        - students : 28 or 34.15% '\n",
      "'\n",
      "        - selfemployed : 24 or 29.27% '\n",
      "'\n",
      "        - employed : 29 or 35.37% '\n",
      "'\n",
      "        - unemployed : 9 or 10.98% '\n",
      "'\n",
      "        - others : 0 or 0.0% '\n",
      "' \n"
     ]
    }
   ],
   "source": [
    "#survey participants per occupation\n",
    "students = len(df[df['student']=='Oui'])\n",
    "self_employed = len(df[df['self_employed']=='Oui'])\n",
    "employed = len(df[df['employed']=='Oui'])\n",
    "unemployed = len(df[df['unemployed']=='Oui'])\n",
    "otherOccupation = len(df[df['otherOccupation']=='Oui'])\n",
    "\n",
    "print (\"\"\" Participants per occupation: '\\n'\n",
    "        - students : {} or {}% '\\n'\n",
    "        - selfemployed : {} or {}% '\\n'\n",
    "        - employed : {} or {}% '\\n'\n",
    "        - unemployed : {} or {}% '\\n'\n",
    "        - others : {} or {}% '\\n' \"\"\"\\\n",
    "      .format(students,calc_percent(students,df),self_employed,calc_percent(self_employed,df),\n",
    "              employed,calc_percent(employed,df), unemployed,calc_percent(unemployed,df),\n",
    "              otherOccupation,calc_percent(otherOccupation,df)\n",
    "             ))\n",
    "    "
   ]
  },
  {
   "cell_type": "code",
   "execution_count": 10,
   "id": "c05c4fb4",
   "metadata": {},
   "outputs": [
    {
     "data": {
      "text/html": [
       "<div>\n",
       "<style scoped>\n",
       "    .dataframe tbody tr th:only-of-type {\n",
       "        vertical-align: middle;\n",
       "    }\n",
       "\n",
       "    .dataframe tbody tr th {\n",
       "        vertical-align: top;\n",
       "    }\n",
       "\n",
       "    .dataframe thead th {\n",
       "        text-align: right;\n",
       "    }\n",
       "</style>\n",
       "<table border=\"1\" class=\"dataframe\">\n",
       "  <thead>\n",
       "    <tr style=\"text-align: right;\">\n",
       "      <th></th>\n",
       "      <th>town</th>\n",
       "      <th>counts</th>\n",
       "    </tr>\n",
       "  </thead>\n",
       "  <tbody>\n",
       "    <tr>\n",
       "      <th>0</th>\n",
       "      <td>Goma</td>\n",
       "      <td>31</td>\n",
       "    </tr>\n",
       "    <tr>\n",
       "      <th>1</th>\n",
       "      <td>Kinshasa</td>\n",
       "      <td>24</td>\n",
       "    </tr>\n",
       "    <tr>\n",
       "      <th>2</th>\n",
       "      <td>Bukavu</td>\n",
       "      <td>9</td>\n",
       "    </tr>\n",
       "    <tr>\n",
       "      <th>3</th>\n",
       "      <td>Lubumbashi</td>\n",
       "      <td>8</td>\n",
       "    </tr>\n",
       "    <tr>\n",
       "      <th>4</th>\n",
       "      <td>Beni</td>\n",
       "      <td>3</td>\n",
       "    </tr>\n",
       "    <tr>\n",
       "      <th>5</th>\n",
       "      <td>Kananga</td>\n",
       "      <td>1</td>\n",
       "    </tr>\n",
       "    <tr>\n",
       "      <th>6</th>\n",
       "      <td>Isiro</td>\n",
       "      <td>1</td>\n",
       "    </tr>\n",
       "    <tr>\n",
       "      <th>7</th>\n",
       "      <td>Mbujimayi</td>\n",
       "      <td>1</td>\n",
       "    </tr>\n",
       "    <tr>\n",
       "      <th>8</th>\n",
       "      <td>Bunia</td>\n",
       "      <td>1</td>\n",
       "    </tr>\n",
       "    <tr>\n",
       "      <th>9</th>\n",
       "      <td>Moba</td>\n",
       "      <td>1</td>\n",
       "    </tr>\n",
       "    <tr>\n",
       "      <th>10</th>\n",
       "      <td>Kambove</td>\n",
       "      <td>1</td>\n",
       "    </tr>\n",
       "    <tr>\n",
       "      <th>11</th>\n",
       "      <td>Kisangani</td>\n",
       "      <td>1</td>\n",
       "    </tr>\n",
       "  </tbody>\n",
       "</table>\n",
       "</div>"
      ],
      "text/plain": [
       "          town  counts\n",
       "0         Goma      31\n",
       "1     Kinshasa      24\n",
       "2       Bukavu       9\n",
       "3   Lubumbashi       8\n",
       "4         Beni       3\n",
       "5      Kananga       1\n",
       "6        Isiro       1\n",
       "7    Mbujimayi       1\n",
       "8        Bunia       1\n",
       "9         Moba       1\n",
       "10     Kambove       1\n",
       "11   Kisangani       1"
      ]
     },
     "execution_count": 10,
     "metadata": {},
     "output_type": "execute_result"
    }
   ],
   "source": [
    "def makeup():\n",
    "    towns={}\n",
    "    for i in df['town'].unique().tolist():\n",
    "        if i != '':\n",
    "            name = str(i)\n",
    "            length = len(df.loc[df['town'] == name])\n",
    "            towns.update({name:length })\n",
    "    towns = {k: v for k, v in sorted(towns.items(), reverse=True, key=lambda x: x[1])} \n",
    "    return towns\n",
    "towns = makeup()\n",
    "town_names = towns.keys()\n",
    "town_count= towns.values()\n",
    "\n",
    "towns_repartition = pd.DataFrame()\n",
    "towns_repartition ['town'] = town_names\n",
    "towns_repartition['counts'] = town_count\n",
    "towns_repartition['counts'] = towns_repartition['counts'].astype(int)\n",
    "towns_repartition['town'] = towns_repartition['town'].astype(str)\n",
    "towns_repartition"
   ]
  },
  {
   "cell_type": "code",
   "execution_count": 21,
   "id": "f4d9c403",
   "metadata": {},
   "outputs": [
    {
     "data": {
      "image/png": "[encoded data removed]",
      "text/plain": [
       "<Figure size 360x216 with 1 Axes>"
      ]
     },
     "metadata": {
      "needs_background": "light"
     },
     "output_type": "display_data"
    },
    {
     "data": {
      "image/png": "[encoded data removed]",
      "text/plain": [
       "<Figure size 360x216 with 1 Axes>"
      ]
     },
     "metadata": {
      "needs_background": "light"
     },
     "output_type": "display_data"
    },
    {
     "data": {
      "image/png": "[encoded data removed]",
      "text/plain": [
       "<Figure size 360x216 with 1 Axes>"
      ]
     },
     "metadata": {
      "needs_background": "light"
     },
     "output_type": "display_data"
    },
    {
     "data": {
      "image/png": "[encoded data removed]",
      "text/plain": [
       "<Figure size 360x216 with 1 Axes>"
      ]
     },
     "metadata": {
      "needs_background": "light"
     },
     "output_type": "display_data"
    }
   ],
   "source": [
    "#Number of responses by occupation and whether they are satisfied of their internet experience\n",
    "\n",
    "satisfied = df[['town','internet_verysatisfied','internet_satisfied','internet_neutral', 'internet_dissatisfied','internet_verydissastisfied']][df['internet_satisfied']==\"Oui\"]\n",
    "satisfied = satisfied.groupby('town').agg({'internet_satisfied': 'count'})\n",
    "\n",
    "internet_verysatisfied = df[['town','internet_verysatisfied','internet_satisfied','internet_neutral', 'internet_dissatisfied','internet_verydissastisfied']][df['internet_verysatisfied']==\"Oui\"]\n",
    "internet_verysatisfied = internet_verysatisfied.groupby('town').agg({'internet_verysatisfied': 'count'})\n",
    "internet_neutral = df[['town','internet_verysatisfied','internet_satisfied','internet_neutral', 'internet_dissatisfied','internet_verydissastisfied']][df['internet_neutral']==\"Oui\"]\n",
    "internet_neutral = internet_neutral.groupby('town').agg({'internet_neutral': 'count'})\n",
    "internet_dissatisfied = df[['town','internet_verysatisfied','internet_satisfied','internet_neutral', 'internet_dissatisfied','internet_verydissastisfied']][df['internet_dissatisfied']==\"Oui\"]\n",
    "internet_dissatisfied = internet_dissatisfied.groupby('town').agg({'internet_dissatisfied': 'count'})\n",
    "# satisfied.reset_index(inplace =True)\n",
    "# satisfied = satisfied.rename(columns = {'index':'town'})\n",
    "satisfied = satisfied.sort_values(by = ['internet_satisfied'], ascending=False)\n",
    "internet_verysatisfied = internet_verysatisfied.sort_values(by = ['internet_verysatisfied'], ascending=False)\n",
    "internet_neutral = internet_neutral.sort_values(by = ['internet_neutral'], ascending=False)\n",
    "internet_dissatisfied = internet_dissatisfied.sort_values(by = ['internet_dissatisfied'], ascending=False)\n",
    "\n",
    "list_satisfied = [satisfied,internet_verysatisfied,internet_neutral, internet_dissatisfied]\n",
    "\n",
    "for df in list_satisfied:\n",
    "    \n",
    "    df = df.iloc[::-1] ##Reversing the index to have the higher values on top\n",
    "\n",
    "#final = pd.concat([towns_repartition,satisfied], axis=1, join='inner')\n",
    "\n",
    "\n",
    "    ax = df.plot(kind='barh', width=.9, figsize=(5,3), color='darkseagreen')\n",
    "\n",
    "    for spine in ax.spines:\n",
    "        ax.spines[spine].set_visible(False)\n",
    "    ax.tick_params(axis = 'both', which = 'major', labelsize = 14)\n",
    "    ax.yaxis.tick_right()\n",
    "    ax.tick_params(axis=\"y\", which='major', length=0)\n",
    "    ax.tick_params(axis=\"y\",direction=\"in\", pad=-275)\n",
    "    ax.xaxis.tick_top()\n",
    "    ax.xaxis.set_label_position('top') \n",
    "    ax.set_xlabel('Number of Responses', fontdict={'fontsize': 13})\n",
    "    ax.set_xticks([0,2,4,6,8,10,12])\n",
    "    #plt.savefig('figures/network_responses.pdf', bbox_inches = 'tight')\n",
    "    plt.show()"
   ]
  },
  {
   "cell_type": "code",
   "execution_count": 12,
   "id": "2fb88fa3",
   "metadata": {},
   "outputs": [
    {
     "ename": "NameError",
     "evalue": "name 'final' is not defined",
     "output_type": "error",
     "traceback": [
      "\u001b[0;31m---------------------------------------------------------------------------\u001b[0m",
      "\u001b[0;31mNameError\u001b[0m                                 Traceback (most recent call last)",
      "Input \u001b[0;32mIn [12]\u001b[0m, in \u001b[0;36m<cell line: 1>\u001b[0;34m()\u001b[0m\n\u001b[0;32m----> 1\u001b[0m \u001b[43mfinal\u001b[49m\n",
      "\u001b[0;31mNameError\u001b[0m: name 'final' is not defined"
     ]
    }
   ],
   "source": [
    "final"
   ]
  },
  {
   "cell_type": "code",
   "execution_count": null,
   "id": "de3de1f6",
   "metadata": {},
   "outputs": [],
   "source": []
  }
 ],
 "metadata": {
  "kernelspec": {
   "display_name": "Python 3 (ipykernel)",
   "language": "python",
   "name": "python3"
  },
  "language_info": {
   "codemirror_mode": {
    "name": "ipython",
    "version": 3
   },
   "file_extension": ".py",
   "mimetype": "text/x-python",
   "name": "python",
   "nbconvert_exporter": "python",
   "pygments_lexer": "ipython3",
   "version": "3.9.12"
  }
 },
 "nbformat": 4,
 "nbformat_minor": 5
}
