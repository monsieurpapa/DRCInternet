{
 "cells": [
  {
   "cell_type": "code",
   "execution_count": 35,
   "id": "d9573b3c",
   "metadata": {},
   "outputs": [],
   "source": [
    "import pandas as pd\n",
    "import numpy as np\n",
    "import matplotlib as mpl\n",
    "import matplotlib.pyplot as plt\n",
    "import matplotlib.patches as mpatches\n",
    "import warnings; warnings.simplefilter('ignore')"
   ]
  },
  {
   "cell_type": "code",
   "execution_count": 36,
   "id": "875d7bc7",
   "metadata": {},
   "outputs": [
    {
     "name": "stdout",
     "output_type": "stream",
     "text": [
      "The total number of responses received is 68.\n",
      "\n"
     ]
    }
   ],
   "source": [
    "file = pd.read_csv('results-survey.csv', sep =',')\n",
    "print(\"The total number of responses received is {}.\\n\".format(len(file)))"
   ]
  },
  {
   "cell_type": "code",
   "execution_count": 37,
   "id": "75c15655",
   "metadata": {},
   "outputs": [
    {
     "data": {
      "text/plain": [
       "Index(['ID de la réponse', 'Date de soumission', 'Dernière page',\n",
       "       'Langue de départ', 'Tête de série', 'Date de lancement',\n",
       "       'Date de la dernière action', 'Adresse IP', 'URL référente',\n",
       "       'Nom &amp; Post-nom /Firstname and Surname',\n",
       "       ...\n",
       "       'Durée pour la question: conn08', 'Durée pour la question: conn09',\n",
       "       'Durée pour la question: conn10', 'Durée pour la question: conn11',\n",
       "       'Durée pour le groupe : MESURAGE D'INTERNET',\n",
       "       'Durée pour la question: meas01', 'Durée pour la question: meas02',\n",
       "       'Durée pour la question: meas03', 'Durée pour la question: meas04',\n",
       "       'Durée pour la question: meas05'],\n",
       "      dtype='object', length=205)"
      ]
     },
     "execution_count": 37,
     "metadata": {},
     "output_type": "execute_result"
    }
   ],
   "source": [
    "file.columns"
   ]
  },
  {
   "cell_type": "code",
   "execution_count": 38,
   "id": "64a29f75",
   "metadata": {},
   "outputs": [],
   "source": [
    "file = file.drop(file.filter(regex='Durée').columns, axis=1)\n",
    "file = file.drop(file.filter(regex='URL').columns, axis=1)\n",
    "file = file.drop(file.columns[[range(0,7)]], axis=1)\n"
   ]
  },
  {
   "cell_type": "code",
   "execution_count": 39,
   "id": "a84ccb86",
   "metadata": {},
   "outputs": [],
   "source": [
    "file.rename(columns={file.columns[0]: 'IP'\n",
    "                    , file.columns[1]: 'names'\\\n",
    "                    , file.columns[2]: 'genderM'\\\n",
    "                    ,file.columns[3]: 'genderF'\\\n",
    "                    ,file.columns[4]: 'otherGender'\\\n",
    "                     ,file.columns[5]: 'noAgegroup'\\\n",
    "                     ,file.columns[6]: 'age18_25'\\\n",
    "                     ,file.columns[7]: 'age26_35'\\\n",
    "                     ,file.columns[8]: 'age36_45'\\\n",
    "                     ,file.columns[9]: 'age46_55'\\\n",
    "                     ,file.columns[10]: 'age56+'\\\n",
    "                     ,file.columns[37]: 'town'\\\n",
    "                     , file.columns[38]: 'student'\\\n",
    "                     , file.columns[39]: 'self_employed'\\\n",
    "                     ,file.columns[40]: 'employed'\\\n",
    "                     ,file.columns[41]: 'unemployed'\\\n",
    "                     ,file.columns[42]: 'otherOccupation'\\\n",
    "                     ,file.columns[99]: 'speedtest_veryconcerned'\\\n",
    "                     ,file.columns[100]: 'speedtest_concerned'\\\n",
    "                     ,file.columns[101]: 'speedtest_notconcerned'\\\n",
    "                     ,file.columns[102]: 'speedtest_dontcare'\\\n",
    "                     ,file.columns[103]: 'internet_verysatisfied'\\\n",
    "                     ,file.columns[105]: 'internet_satisfied'\\\n",
    "                     ,file.columns[107]: 'internet_neutral'\\\n",
    "                     ,file.columns[109]: 'internet_dissatisfied'\\\n",
    "                     ,file.columns[111]: 'internet_verydissastisfied'\\\n",
    "                     ,file.columns[131]: 'promise1_3mbps'\\\n",
    "                     ,file.columns[132]: 'promise5_10mbps'\\\n",
    "                     ,file.columns[133]: 'promiseless_25mbps'\\\n",
    "                     ,file.columns[134]: 'promisemore_1gbps'\\\n",
    "                     ,file.columns[135]: 'promise_notaware'\\\n",
    "                     ,file.columns[136]: 'percievedspeed1_3mbps'\\\n",
    "                     ,file.columns[137]: 'percievedspeed5_10mbps'\\\n",
    "                     ,file.columns[138]: 'percievedspeed_25mbps'\\\n",
    "                     ,file.columns[139]: 'percievedspeed_1gbps'\\\n",
    "                     ,file.columns[140]: 'percievedspeed_notaware'\\\n",
    "                     \n",
    "                     \n",
    "                     \n",
    "                     \n",
    "                     \n",
    "                    }, inplace=True)\n"
   ]
  },
  {
   "cell_type": "code",
   "execution_count": 40,
   "id": "c281925c",
   "metadata": {},
   "outputs": [
    {
     "name": "stdout",
     "output_type": "stream",
     "text": [
      "Total Number of responses: 68\n",
      "Number of towns that responded: 11\n",
      "Responses with no country specified: 0\n",
      "\n"
     ]
    }
   ],
   "source": [
    "#count the responses and the towns \n",
    "df = file\n",
    "print(\"Total Number of responses: {}\".format(len(df)))\n",
    "print(\"Number of towns that responded: {}\".format(len(df['town'].value_counts())))#minus 1 of 'Other'\n",
    "print(\"Responses with no country specified: {}\\n\".format(len(df[df['town'] == \"\"])))"
   ]
  },
  {
   "cell_type": "code",
   "execution_count": 55,
   "id": "3af9b660",
   "metadata": {},
   "outputs": [
    {
     "name": "stdout",
     "output_type": "stream",
     "text": [
      "Total number participants are unaware of their promised speeds: 22 or 32.35% of all responses\n"
     ]
    }
   ],
   "source": [
    "# #participants who are unaware of their promissed speeds\n",
    "runm = len(df[['student', 'self_employed', 'employed','unemployed','otherOccupation']][df['promise_notaware']==\"Oui\"])\n",
    "runperc = round(runm/len(df)*100, 2)\n",
    "print(\"Total number participants are unaware of their promised speeds: {} or {}% of all responses\"\\\n",
    "      .format(runm, runperc))"
   ]
  },
  {
   "cell_type": "code",
   "execution_count": 56,
   "id": "0261e728",
   "metadata": {},
   "outputs": [],
   "source": [
    "#percent of elements\n",
    "def calc_percent(element, df):\n",
    "    percentage = round(element/len(df)*100, 2)\n",
    "    return percentage"
   ]
  },
  {
   "cell_type": "code",
   "execution_count": null,
   "id": "e5803dd8",
   "metadata": {},
   "outputs": [],
   "source": []
  },
  {
   "cell_type": "code",
   "execution_count": 57,
   "id": "70887bff",
   "metadata": {},
   "outputs": [
    {
     "name": "stdout",
     "output_type": "stream",
     "text": [
      " Participants per occupation: '\n",
      "'\n",
      "        - students : 24 or 35.29% '\n",
      "'\n",
      "        - selfemployed : 22 or 32.35% '\n",
      "'\n",
      "        - employed : 22 or 32.35% '\n",
      "'\n",
      "        - unemployed : 8 or 11.76% '\n",
      "'\n",
      "        - others : 0 or 0.0% '\n",
      "' \n"
     ]
    }
   ],
   "source": [
    "#survey participants per occupation\n",
    "students = len(df[df['student']=='Oui'])\n",
    "self_employed = len(df[df['self_employed']=='Oui'])\n",
    "employed = len(df[df['employed']=='Oui'])\n",
    "unemployed = len(df[df['unemployed']=='Oui'])\n",
    "otherOccupation = len(df[df['otherOccupation']=='Oui'])\n",
    "\n",
    "print (\"\"\" Participants per occupation: '\\n'\n",
    "        - students : {} or {}% '\\n'\n",
    "        - selfemployed : {} or {}% '\\n'\n",
    "        - employed : {} or {}% '\\n'\n",
    "        - unemployed : {} or {}% '\\n'\n",
    "        - others : {} or {}% '\\n' \"\"\"\\\n",
    "      .format(students,calc_percent(students,df),self_employed,calc_percent(self_employed,df),\n",
    "              employed,calc_percent(employed,df), unemployed,calc_percent(unemployed,df),\n",
    "              otherOccupation,calc_percent(otherOccupation,df)\n",
    "             ))\n",
    "    "
   ]
  },
  {
   "cell_type": "code",
   "execution_count": 59,
   "id": "5bc4b4b1",
   "metadata": {},
   "outputs": [
    {
     "data": {
      "text/plain": [
       "{'Goma': 28,\n",
       " 'Kinshasa': 19,\n",
       " 'Bukavu': 9,\n",
       " 'Lubumbashi': 5,\n",
       " 'Kananga': 1,\n",
       " 'Isiro': 1,\n",
       " 'Mbujimayi': 1,\n",
       " 'Beni': 1,\n",
       " 'Bunia': 1,\n",
       " 'Nord kivu': 1,\n",
       " 'Moba': 1}"
      ]
     },
     "execution_count": 59,
     "metadata": {},
     "output_type": "execute_result"
    }
   ],
   "source": [
    "def makeup():\n",
    "    towns={}\n",
    "    for i in df['town'].unique().tolist():\n",
    "        if i != '':\n",
    "            name = str(i)\n",
    "            length = len(df.loc[df['town'] == name])\n",
    "            towns.update({name:length })\n",
    "    towns = {k: v for k, v in sorted(towns.items(), reverse=True, key=lambda x: x[1])} \n",
    "    return towns\n",
    "makeup()"
   ]
  },
  {
   "cell_type": "code",
   "execution_count": 83,
   "id": "c65d8004",
   "metadata": {},
   "outputs": [
    {
     "data": {
      "text/html": [
       "<div>\n",
       "<style scoped>\n",
       "    .dataframe tbody tr th:only-of-type {\n",
       "        vertical-align: middle;\n",
       "    }\n",
       "\n",
       "    .dataframe tbody tr th {\n",
       "        vertical-align: top;\n",
       "    }\n",
       "\n",
       "    .dataframe thead th {\n",
       "        text-align: right;\n",
       "    }\n",
       "</style>\n",
       "<table border=\"1\" class=\"dataframe\">\n",
       "  <thead>\n",
       "    <tr style=\"text-align: right;\">\n",
       "      <th></th>\n",
       "      <th>internet_satisfied</th>\n",
       "    </tr>\n",
       "    <tr>\n",
       "      <th>town</th>\n",
       "      <th></th>\n",
       "    </tr>\n",
       "  </thead>\n",
       "  <tbody>\n",
       "    <tr>\n",
       "      <th>Goma</th>\n",
       "      <td>6</td>\n",
       "    </tr>\n",
       "    <tr>\n",
       "      <th>Isiro</th>\n",
       "      <td>1</td>\n",
       "    </tr>\n",
       "    <tr>\n",
       "      <th>Kananga</th>\n",
       "      <td>1</td>\n",
       "    </tr>\n",
       "    <tr>\n",
       "      <th>Kinshasa</th>\n",
       "      <td>10</td>\n",
       "    </tr>\n",
       "    <tr>\n",
       "      <th>Lubumbashi</th>\n",
       "      <td>3</td>\n",
       "    </tr>\n",
       "    <tr>\n",
       "      <th>Nord kivu</th>\n",
       "      <td>1</td>\n",
       "    </tr>\n",
       "  </tbody>\n",
       "</table>\n",
       "</div>"
      ],
      "text/plain": [
       "            internet_satisfied\n",
       "town                          \n",
       "Goma                         6\n",
       "Isiro                        1\n",
       "Kananga                      1\n",
       "Kinshasa                    10\n",
       "Lubumbashi                   3\n",
       "Nord kivu                    1"
      ]
     },
     "execution_count": 83,
     "metadata": {},
     "output_type": "execute_result"
    }
   ],
   "source": [
    "#Number of responses by occupation and whether they are satisfied of their internet experience\n",
    "def internetsatisfaction():\n",
    "    satisfied = df[['town','internet_verysatisfied','internet_satisfied','internet_neutral', 'internet_dissatisfied','internet_verydissastisfied']][df['internet_satisfied']==\"Oui\"]\n",
    "    satisfied = satisfied.groupby('town').agg({'internet_satisfied': 'count'})\n",
    "    internet_verysatisfied = df[['town','internet_verysatisfied','internet_satisfied','internet_neutral', 'internet_dissatisfied','internet_verydissastisfied']][df['internet_verysatisfied']==\"Oui\"]\n",
    "    internet_verysatisfied = satisfied.groupby('town').agg({'internet_verysatisfied': 'count'})\n",
    "    internet_neutral = df[['town','internet_verysatisfied','internet_satisfied','internet_neutral', 'internet_dissatisfied','internet_verydissastisfied']][df['internet_neutral']==\"Oui\"]\n",
    "    internet_neutral = satisfied.groupby('town').agg({'internet_neutral': 'count'})\n",
    "    internet_dissatisfied = df[['town','internet_verysatisfied','internet_satisfied','internet_neutral', 'internet_dissatisfied','internet_verydissastisfied']][df['internet_dissatisfied']==\"Oui\"]\n",
    "    internet_dissatisfied = satisfied.groupby('town').agg({'internet_dissatisfied': 'count'})\n",
    "    \n",
    "internetsatisfaction()\n",
    "satisfied"
   ]
  },
  {
   "cell_type": "code",
   "execution_count": null,
   "id": "b0302dee",
   "metadata": {},
   "outputs": [],
   "source": []
  }
 ],
 "metadata": {
  "kernelspec": {
   "display_name": "Python 3 (ipykernel)",
   "language": "python",
   "name": "python3"
  },
  "language_info": {
   "codemirror_mode": {
    "name": "ipython",
    "version": 3
   },
   "file_extension": ".py",
   "mimetype": "text/x-python",
   "name": "python",
   "nbconvert_exporter": "python",
   "pygments_lexer": "ipython3",
   "version": "3.9.12"
  }
 },
 "nbformat": 4,
 "nbformat_minor": 5
}
