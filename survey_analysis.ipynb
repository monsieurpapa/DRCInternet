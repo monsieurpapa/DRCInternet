{
 "cells": [
  {
   "cell_type": "code",
   "execution_count": 1,
   "id": "d9573b3c",
   "metadata": {},
   "outputs": [],
   "source": [
    "import pandas as pd\n",
    "import numpy as np\n",
    "import matplotlib as mpl\n",
    "import matplotlib.pyplot as plt\n",
    "import matplotlib.patches as mpatches\n",
    "import warnings; warnings.simplefilter('ignore')"
   ]
  },
  {
   "cell_type": "code",
   "execution_count": 2,
   "id": "875d7bc7",
   "metadata": {},
   "outputs": [
    {
     "name": "stdout",
     "output_type": "stream",
     "text": [
      "The total number of responses received is 82.\n",
      "\n"
     ]
    }
   ],
   "source": [
    "file = pd.read_csv('results_survey.csv', sep =',')\n",
    "total_responses =len(file)\n",
    "print(\"The total number of responses received is {}.\\n\".format(len(file)))"
   ]
  },
  {
   "cell_type": "code",
   "execution_count": 3,
   "id": "75c15655",
   "metadata": {},
   "outputs": [
    {
     "data": {
      "text/plain": [
       "Index(['ID de la réponse', 'Date de soumission', 'Dernière page',\n",
       "       'Langue de départ', 'Tête de série', 'Date de lancement',\n",
       "       'Date de la dernière action', 'Adresse IP', 'URL référente',\n",
       "       'Nom &amp; Post-nom /Firstname and Surname',\n",
       "       ...\n",
       "       'Durée pour la question: conn08', 'Durée pour la question: conn09',\n",
       "       'Durée pour la question: conn10', 'Durée pour la question: conn11',\n",
       "       'Durée pour le groupe : MESURAGE D'INTERNET',\n",
       "       'Durée pour la question: meas01', 'Durée pour la question: meas02',\n",
       "       'Durée pour la question: meas03', 'Durée pour la question: meas04',\n",
       "       'Durée pour la question: meas05'],\n",
       "      dtype='object', length=205)"
      ]
     },
     "execution_count": 3,
     "metadata": {},
     "output_type": "execute_result"
    }
   ],
   "source": [
    "file.columns"
   ]
  },
  {
   "cell_type": "code",
   "execution_count": 4,
   "id": "64a29f75",
   "metadata": {},
   "outputs": [],
   "source": [
    "file = file.drop(file.filter(regex='Durée').columns, axis=1)\n",
    "file = file.drop(file.filter(regex='URL').columns, axis=1)\n",
    "file = file.drop(file.columns[[range(0,7)]], axis=1)\n"
   ]
  },
  {
   "cell_type": "code",
   "execution_count": 5,
   "id": "a84ccb86",
   "metadata": {},
   "outputs": [],
   "source": [
    "file.rename(columns={file.columns[0]: 'IP'\n",
    "                    , file.columns[1]: 'names'\\\n",
    "                    , file.columns[2]: 'genderM'\\\n",
    "                    ,file.columns[3]: 'genderF'\\\n",
    "                    ,file.columns[4]: 'otherGender'\\\n",
    "                     ,file.columns[5]: 'noAgegroup'\\\n",
    "                     ,file.columns[6]: 'age18_25'\\\n",
    "                     ,file.columns[7]: 'age26_35'\\\n",
    "                     ,file.columns[8]: 'age36_45'\\\n",
    "                     ,file.columns[9]: 'age46_55'\\\n",
    "                     ,file.columns[10]: 'age56+'\\\n",
    "                     ,file.columns[37]: 'town'\\\n",
    "                     , file.columns[38]: 'student'\\\n",
    "                     , file.columns[39]: 'self_employed'\\\n",
    "                     ,file.columns[40]: 'employed'\\\n",
    "                     ,file.columns[41]: 'unemployed'\\\n",
    "                     ,file.columns[42]: 'otherOccupation'\\\n",
    "                     ,file.columns[99]: 'speedtest_veryconcerned'\\\n",
    "                     ,file.columns[100]: 'speedtest_concerned'\\\n",
    "                     ,file.columns[101]: 'speedtest_notconcerned'\\\n",
    "                     ,file.columns[102]: 'speedtest_dontcare'\\\n",
    "                     ,file.columns[103]: 'internet_verysatisfied'\\\n",
    "                     ,file.columns[105]: 'internet_satisfied'\\\n",
    "                     ,file.columns[107]: 'internet_neutral'\\\n",
    "                     ,file.columns[109]: 'internet_dissatisfied'\\\n",
    "                     ,file.columns[111]: 'internet_verydissastisfied'\\\n",
    "                     ,file.columns[131]: 'promise1_3mbps'\\\n",
    "                     ,file.columns[132]: 'promise5_10mbps'\\\n",
    "                     ,file.columns[133]: 'promiseless_25mbps'\\\n",
    "                     ,file.columns[134]: 'promisemore_1gbps'\\\n",
    "                     ,file.columns[135]: 'promise_notaware'\\\n",
    "                     ,file.columns[136]: 'percievedspeed1_3mbps'\\\n",
    "                     ,file.columns[137]: 'percievedspeed5_10mbps'\\\n",
    "                     ,file.columns[138]: 'percievedspeed_25mbps'\\\n",
    "                     ,file.columns[139]: 'percievedspeed_1gbps'\\\n",
    "                     ,file.columns[140]: 'percievedspeed_notaware'\\\n",
    "                     ,file.columns[68]: 'qoe_pageloadingtime'\\\n",
    "                     ,file.columns[69]: 'qoe_livevideofreezes'\\\n",
    "                     ,file.columns[70]: 'qoe_voicecalldropouts'\\\n",
    "                     ,file.columns[71]: 'qoe_videocalldropouts'\\\n",
    "                     ,file.columns[72]: 'qoe_textmessagedeliverydelays'\\\n",
    "#                      ,file.columns[91]: 'Airtel'\\\n",
    "#                      ,file.columns[92]: 'Vodacom'\\\n",
    "#                      ,file.columns[93]: 'Orange'\\\n",
    "#                      ,file.columns[95]: 'OtherISP'\\\n",
    "                     \n",
    "                     \n",
    "                     \n",
    "                     \n",
    "                     \n",
    "                     \n",
    "                    }, inplace=True)\n"
   ]
  },
  {
   "cell_type": "code",
   "execution_count": 6,
   "id": "c281925c",
   "metadata": {},
   "outputs": [
    {
     "name": "stdout",
     "output_type": "stream",
     "text": [
      "Total Number of responses: 82\n",
      "Number of towns that responded: 12\n",
      "Responses with no country specified: 0\n",
      "\n"
     ]
    }
   ],
   "source": [
    "#count the responses and the towns \n",
    "df = file\n",
    "print(\"Total Number of responses: {}\".format(len(df)))\n",
    "print(\"Number of towns that responded: {}\".format(len(df['town'].value_counts())))#minus 1 of 'Other'\n",
    "print(\"Responses with no country specified: {}\\n\".format(len(df[df['town'] == \"\"])))"
   ]
  },
  {
   "cell_type": "code",
   "execution_count": 7,
   "id": "3af9b660",
   "metadata": {},
   "outputs": [
    {
     "name": "stdout",
     "output_type": "stream",
     "text": [
      "Total number participants are unaware of their promised speeds: 28 or 34.15% of all responses\n"
     ]
    }
   ],
   "source": [
    "# #participants who are unaware of their promissed speeds\n",
    "runm = len(df[['student', 'self_employed', 'employed','unemployed','otherOccupation']][df['promise_notaware']==\"Oui\"])\n",
    "runperc = round(runm/len(df)*100, 2)\n",
    "print(\"Total number participants are unaware of their promised speeds: {} or {}% of all responses\"\\\n",
    "      .format(runm, runperc))"
   ]
  },
  {
   "cell_type": "code",
   "execution_count": 8,
   "id": "e2a23162",
   "metadata": {},
   "outputs": [],
   "source": [
    "#percent of elements\n",
    "def calc_percent(element, df):\n",
    "    percentage = round(element/len(df)*100, 2)\n",
    "    return percentage"
   ]
  },
  {
   "cell_type": "code",
   "execution_count": null,
   "id": "f0d23c27",
   "metadata": {},
   "outputs": [],
   "source": []
  },
  {
   "cell_type": "code",
   "execution_count": 9,
   "id": "7a70adfb",
   "metadata": {},
   "outputs": [
    {
     "name": "stdout",
     "output_type": "stream",
     "text": [
      " Participants per occupation: '\n",
      "'\n",
      "        - students : 28 or 34.15% '\n",
      "'\n",
      "        - selfemployed : 24 or 29.27% '\n",
      "'\n",
      "        - employed : 29 or 35.37% '\n",
      "'\n",
      "        - unemployed : 9 or 10.98% '\n",
      "'\n",
      "        - others : 0 or 0.0% '\n",
      "' \n"
     ]
    }
   ],
   "source": [
    "#survey participants per occupation\n",
    "students = len(df[df['student']=='Oui'])\n",
    "self_employed = len(df[df['self_employed']=='Oui'])\n",
    "employed = len(df[df['employed']=='Oui'])\n",
    "unemployed = len(df[df['unemployed']=='Oui'])\n",
    "otherOccupation = len(df[df['otherOccupation']=='Oui'])\n",
    "\n",
    "print (\"\"\" Participants per occupation: '\\n'\n",
    "        - students : {} or {}% '\\n'\n",
    "        - selfemployed : {} or {}% '\\n'\n",
    "        - employed : {} or {}% '\\n'\n",
    "        - unemployed : {} or {}% '\\n'\n",
    "        - others : {} or {}% '\\n' \"\"\"\\\n",
    "      .format(students,calc_percent(students,df),self_employed,calc_percent(self_employed,df),\n",
    "              employed,calc_percent(employed,df), unemployed,calc_percent(unemployed,df),\n",
    "              otherOccupation,calc_percent(otherOccupation,df)\n",
    "             ))\n",
    "    "
   ]
  },
  {
   "cell_type": "code",
   "execution_count": 10,
   "id": "21318db5",
   "metadata": {},
   "outputs": [
    {
     "name": "stdout",
     "output_type": "stream",
     "text": [
      "\n",
      "Number of towns that responded: 11\n"
     ]
    },
    {
     "data": {
      "text/plain": [
       "{'Goma': 31,\n",
       " 'Kinshasa': 24,\n",
       " 'Lubumbashi': 8,\n",
       " 'Kananga': 1,\n",
       " 'Isiro': 1,\n",
       " 'Bukavu': 9,\n",
       " 'Mbujimayi': 1,\n",
       " 'Beni': 3,\n",
       " 'Bunia': 1,\n",
       " 'Moba': 1,\n",
       " 'Kambove': 1,\n",
       " 'Kisangani': 1}"
      ]
     },
     "execution_count": 10,
     "metadata": {},
     "output_type": "execute_result"
    }
   ],
   "source": [
    "#Number of Response by town\n",
    "df1 = df.set_index('town')\n",
    "print(\"\\nNumber of towns that responded: {}\".format(len(df1.index.unique()) - 1))\n",
    "count = {}\n",
    "for i in df1.index.unique().tolist():\n",
    "    name = str(i)\n",
    "    length = len(df1.loc[name])\n",
    "    if length >150:\n",
    "        length =1\n",
    "    count.update({name:length })\n",
    "count"
   ]
  },
  {
   "cell_type": "code",
   "execution_count": 11,
   "id": "c05c4fb4",
   "metadata": {},
   "outputs": [
    {
     "data": {
      "text/html": [
       "<div>\n",
       "<style scoped>\n",
       "    .dataframe tbody tr th:only-of-type {\n",
       "        vertical-align: middle;\n",
       "    }\n",
       "\n",
       "    .dataframe tbody tr th {\n",
       "        vertical-align: top;\n",
       "    }\n",
       "\n",
       "    .dataframe thead th {\n",
       "        text-align: right;\n",
       "    }\n",
       "</style>\n",
       "<table border=\"1\" class=\"dataframe\">\n",
       "  <thead>\n",
       "    <tr style=\"text-align: right;\">\n",
       "      <th></th>\n",
       "      <th>town</th>\n",
       "      <th>counts</th>\n",
       "    </tr>\n",
       "  </thead>\n",
       "  <tbody>\n",
       "    <tr>\n",
       "      <th>0</th>\n",
       "      <td>Goma</td>\n",
       "      <td>31</td>\n",
       "    </tr>\n",
       "    <tr>\n",
       "      <th>1</th>\n",
       "      <td>Kinshasa</td>\n",
       "      <td>24</td>\n",
       "    </tr>\n",
       "    <tr>\n",
       "      <th>2</th>\n",
       "      <td>Bukavu</td>\n",
       "      <td>9</td>\n",
       "    </tr>\n",
       "    <tr>\n",
       "      <th>3</th>\n",
       "      <td>Lubumbashi</td>\n",
       "      <td>8</td>\n",
       "    </tr>\n",
       "    <tr>\n",
       "      <th>4</th>\n",
       "      <td>Beni</td>\n",
       "      <td>3</td>\n",
       "    </tr>\n",
       "    <tr>\n",
       "      <th>5</th>\n",
       "      <td>Kananga</td>\n",
       "      <td>1</td>\n",
       "    </tr>\n",
       "    <tr>\n",
       "      <th>6</th>\n",
       "      <td>Isiro</td>\n",
       "      <td>1</td>\n",
       "    </tr>\n",
       "    <tr>\n",
       "      <th>7</th>\n",
       "      <td>Mbujimayi</td>\n",
       "      <td>1</td>\n",
       "    </tr>\n",
       "    <tr>\n",
       "      <th>8</th>\n",
       "      <td>Bunia</td>\n",
       "      <td>1</td>\n",
       "    </tr>\n",
       "    <tr>\n",
       "      <th>9</th>\n",
       "      <td>Moba</td>\n",
       "      <td>1</td>\n",
       "    </tr>\n",
       "    <tr>\n",
       "      <th>10</th>\n",
       "      <td>Kambove</td>\n",
       "      <td>1</td>\n",
       "    </tr>\n",
       "    <tr>\n",
       "      <th>11</th>\n",
       "      <td>Kisangani</td>\n",
       "      <td>1</td>\n",
       "    </tr>\n",
       "  </tbody>\n",
       "</table>\n",
       "</div>"
      ],
      "text/plain": [
       "          town  counts\n",
       "0         Goma      31\n",
       "1     Kinshasa      24\n",
       "2       Bukavu       9\n",
       "3   Lubumbashi       8\n",
       "4         Beni       3\n",
       "5      Kananga       1\n",
       "6        Isiro       1\n",
       "7    Mbujimayi       1\n",
       "8        Bunia       1\n",
       "9         Moba       1\n",
       "10     Kambove       1\n",
       "11   Kisangani       1"
      ]
     },
     "execution_count": 11,
     "metadata": {},
     "output_type": "execute_result"
    }
   ],
   "source": [
    "def makeup():\n",
    "    towns={}\n",
    "    for i in df['town'].unique().tolist():\n",
    "        if i != '':\n",
    "            name = str(i)\n",
    "            length = len(df.loc[df['town'] == name])\n",
    "            towns.update({name:length })\n",
    "    towns = {k: v for k, v in sorted(towns.items(), reverse=True, key=lambda x: x[1])} \n",
    "    return towns\n",
    "towns = makeup()\n",
    "town_names = towns.keys()\n",
    "town_count= towns.values()\n",
    "\n",
    "towns_repartition = pd.DataFrame()\n",
    "towns_repartition ['town'] = town_names\n",
    "towns_repartition['counts'] = town_count\n",
    "towns_repartition['counts'] = towns_repartition['counts'].astype(int)\n",
    "towns_repartition['town'] = towns_repartition['town'].astype(str)\n",
    "towns_repartition"
   ]
  },
  {
   "cell_type": "code",
   "execution_count": 12,
   "id": "f4d9c403",
   "metadata": {},
   "outputs": [
    {
     "data": {
      "text/html": [
       "<div>\n",
       "<style scoped>\n",
       "    .dataframe tbody tr th:only-of-type {\n",
       "        vertical-align: middle;\n",
       "    }\n",
       "\n",
       "    .dataframe tbody tr th {\n",
       "        vertical-align: top;\n",
       "    }\n",
       "\n",
       "    .dataframe thead th {\n",
       "        text-align: right;\n",
       "    }\n",
       "</style>\n",
       "<table border=\"1\" class=\"dataframe\">\n",
       "  <thead>\n",
       "    <tr style=\"text-align: right;\">\n",
       "      <th></th>\n",
       "      <th>Total Number of Responses</th>\n",
       "      <th>satisfied users</th>\n",
       "      <th>% satisfied</th>\n",
       "      <th>neutral users</th>\n",
       "      <th>% neutral</th>\n",
       "      <th>dis-satisfied users</th>\n",
       "      <th>% dis-satisfied</th>\n",
       "    </tr>\n",
       "  </thead>\n",
       "  <tbody>\n",
       "    <tr>\n",
       "      <th>Goma</th>\n",
       "      <td>31</td>\n",
       "      <td>8</td>\n",
       "      <td>25.81</td>\n",
       "      <td>7</td>\n",
       "      <td>22.58</td>\n",
       "      <td>15</td>\n",
       "      <td>48.39</td>\n",
       "    </tr>\n",
       "    <tr>\n",
       "      <th>Kinshasa</th>\n",
       "      <td>24</td>\n",
       "      <td>12</td>\n",
       "      <td>50.00</td>\n",
       "      <td>7</td>\n",
       "      <td>29.17</td>\n",
       "      <td>4</td>\n",
       "      <td>16.67</td>\n",
       "    </tr>\n",
       "    <tr>\n",
       "      <th>Lubumbashi</th>\n",
       "      <td>8</td>\n",
       "      <td>4</td>\n",
       "      <td>50.00</td>\n",
       "      <td>0</td>\n",
       "      <td>0.00</td>\n",
       "      <td>1</td>\n",
       "      <td>12.50</td>\n",
       "    </tr>\n",
       "    <tr>\n",
       "      <th>Kananga</th>\n",
       "      <td>1</td>\n",
       "      <td>1</td>\n",
       "      <td>100.00</td>\n",
       "      <td>0</td>\n",
       "      <td>0.00</td>\n",
       "      <td>0</td>\n",
       "      <td>0.00</td>\n",
       "    </tr>\n",
       "    <tr>\n",
       "      <th>Isiro</th>\n",
       "      <td>1</td>\n",
       "      <td>1</td>\n",
       "      <td>100.00</td>\n",
       "      <td>0</td>\n",
       "      <td>0.00</td>\n",
       "      <td>0</td>\n",
       "      <td>0.00</td>\n",
       "    </tr>\n",
       "    <tr>\n",
       "      <th>Bukavu</th>\n",
       "      <td>9</td>\n",
       "      <td>0</td>\n",
       "      <td>0.00</td>\n",
       "      <td>5</td>\n",
       "      <td>55.56</td>\n",
       "      <td>3</td>\n",
       "      <td>33.33</td>\n",
       "    </tr>\n",
       "    <tr>\n",
       "      <th>Mbujimayi</th>\n",
       "      <td>1</td>\n",
       "      <td>0</td>\n",
       "      <td>0.00</td>\n",
       "      <td>0</td>\n",
       "      <td>0.00</td>\n",
       "      <td>1</td>\n",
       "      <td>100.00</td>\n",
       "    </tr>\n",
       "    <tr>\n",
       "      <th>Beni</th>\n",
       "      <td>3</td>\n",
       "      <td>0</td>\n",
       "      <td>0.00</td>\n",
       "      <td>1</td>\n",
       "      <td>33.33</td>\n",
       "      <td>0</td>\n",
       "      <td>0.00</td>\n",
       "    </tr>\n",
       "    <tr>\n",
       "      <th>Bunia</th>\n",
       "      <td>1</td>\n",
       "      <td>0</td>\n",
       "      <td>0.00</td>\n",
       "      <td>0</td>\n",
       "      <td>0.00</td>\n",
       "      <td>1</td>\n",
       "      <td>100.00</td>\n",
       "    </tr>\n",
       "    <tr>\n",
       "      <th>Moba</th>\n",
       "      <td>1</td>\n",
       "      <td>0</td>\n",
       "      <td>0.00</td>\n",
       "      <td>0</td>\n",
       "      <td>0.00</td>\n",
       "      <td>0</td>\n",
       "      <td>0.00</td>\n",
       "    </tr>\n",
       "    <tr>\n",
       "      <th>Kambove</th>\n",
       "      <td>1</td>\n",
       "      <td>0</td>\n",
       "      <td>0.00</td>\n",
       "      <td>0</td>\n",
       "      <td>0.00</td>\n",
       "      <td>1</td>\n",
       "      <td>100.00</td>\n",
       "    </tr>\n",
       "    <tr>\n",
       "      <th>Kisangani</th>\n",
       "      <td>1</td>\n",
       "      <td>0</td>\n",
       "      <td>0.00</td>\n",
       "      <td>0</td>\n",
       "      <td>0.00</td>\n",
       "      <td>1</td>\n",
       "      <td>100.00</td>\n",
       "    </tr>\n",
       "  </tbody>\n",
       "</table>\n",
       "</div>"
      ],
      "text/plain": [
       "            Total Number of Responses  satisfied users  % satisfied  \\\n",
       "Goma                               31                8        25.81   \n",
       "Kinshasa                           24               12        50.00   \n",
       "Lubumbashi                          8                4        50.00   \n",
       "Kananga                             1                1       100.00   \n",
       "Isiro                               1                1       100.00   \n",
       "Bukavu                              9                0         0.00   \n",
       "Mbujimayi                           1                0         0.00   \n",
       "Beni                                3                0         0.00   \n",
       "Bunia                               1                0         0.00   \n",
       "Moba                                1                0         0.00   \n",
       "Kambove                             1                0         0.00   \n",
       "Kisangani                           1                0         0.00   \n",
       "\n",
       "            neutral users  % neutral  dis-satisfied users  % dis-satisfied  \n",
       "Goma                    7      22.58                   15            48.39  \n",
       "Kinshasa                7      29.17                    4            16.67  \n",
       "Lubumbashi              0       0.00                    1            12.50  \n",
       "Kananga                 0       0.00                    0             0.00  \n",
       "Isiro                   0       0.00                    0             0.00  \n",
       "Bukavu                  5      55.56                    3            33.33  \n",
       "Mbujimayi               0       0.00                    1           100.00  \n",
       "Beni                    1      33.33                    0             0.00  \n",
       "Bunia                   0       0.00                    1           100.00  \n",
       "Moba                    0       0.00                    0             0.00  \n",
       "Kambove                 0       0.00                    1           100.00  \n",
       "Kisangani               0       0.00                    1           100.00  "
      ]
     },
     "execution_count": 12,
     "metadata": {},
     "output_type": "execute_result"
    }
   ],
   "source": [
    "#Number of responses by occupation and whether they are satisfied of their internet experience\n",
    "\n",
    "satisfied = df[['town','internet_verysatisfied','internet_satisfied','internet_neutral', 'internet_dissatisfied','internet_verydissastisfied']][df['internet_satisfied']==\"Oui\"]\n",
    "satisfied = satisfied.groupby('town').agg({'internet_satisfied': 'count'})\n",
    "responses = pd.Series(count)\n",
    "final =  pd.concat([responses,satisfied], axis=1, join='outer')\n",
    "final.fillna(0, inplace=True)\n",
    "final['internet_satisfied'] = final['internet_satisfied'].astype(int)\n",
    "final.rename(columns={final.columns[0]: 'Total Number of Responses',\n",
    "                 'internet_satisfied':'satisfied users'}, inplace=True)\n",
    "final['% satisfied'] = round((final['satisfied users'\\\n",
    "                                              ]/final['Total Number of Responses'])*100, 2)\n",
    "\n",
    "internet_verysatisfied = df[['town','internet_verysatisfied','internet_satisfied','internet_neutral', 'internet_dissatisfied','internet_verydissastisfied']][df['internet_verysatisfied']==\"Oui\"]\n",
    "internet_verysatisfied = internet_verysatisfied.groupby('town').agg({'internet_verysatisfied': 'count'})\n",
    "\n",
    "internet_neutral = df[['town','internet_verysatisfied','internet_satisfied','internet_neutral', 'internet_dissatisfied','internet_verydissastisfied']][df['internet_neutral']==\"Oui\"]\n",
    "internet_neutral = internet_neutral.groupby('town').agg({'internet_neutral': 'count'})\n",
    "final =  pd.concat([final,internet_neutral], axis=1, join='outer')\n",
    "final.fillna(0, inplace=True)\n",
    "final['internet_neutral'] = final['internet_neutral'].astype(int)\n",
    "final.rename(columns={'internet_neutral':'neutral users'}, inplace=True)\n",
    "final['% neutral'] = round((final['neutral users'\\\n",
    "                                              ]/final['Total Number of Responses'])*100, 2)\n",
    "\n",
    "\n",
    "internet_dissatisfied = df[['town','internet_verysatisfied','internet_satisfied','internet_neutral', 'internet_dissatisfied','internet_verydissastisfied']][df['internet_dissatisfied']==\"Oui\"]\n",
    "internet_dissatisfied = internet_dissatisfied.groupby('town').agg({'internet_dissatisfied': 'count'})\n",
    "final =  pd.concat([final,internet_dissatisfied], axis=1, join='outer')\n",
    "final.fillna(0, inplace=True)\n",
    "final['internet_dissatisfied'] = final['internet_dissatisfied'].astype(int)\n",
    "final.rename(columns={'internet_dissatisfied':'dis-satisfied users'}, inplace=True)\n",
    "final['% dis-satisfied'] = round((final['dis-satisfied users'\\\n",
    "                                              ]/final['Total Number of Responses'])*100, 2)\n",
    "\n",
    "\n",
    "\n",
    "# satisfied.reset_index(inplace =True)\n",
    "# satisfied = satisfied.rename(columns = {'index':'town'})\n",
    "satisfied = satisfied.sort_values(by = ['internet_satisfied'], ascending=False)\n",
    "internet_verysatisfied = internet_verysatisfied.sort_values(by = ['internet_verysatisfied'], ascending=False)\n",
    "internet_neutral = internet_neutral.sort_values(by = ['internet_neutral'], ascending=False)\n",
    "internet_dissatisfied = internet_dissatisfied.sort_values(by = ['internet_dissatisfied'], ascending=False)\n",
    "# airtel = airtel.sort_values(by = ['Airtel'], ascending=False)\n",
    "# vodacom = vodacom.sort_values(by = ['Vodacom'], ascending=False)\n",
    "# orange = orange.sort_values(by = ['Orange'], ascending=False)\n",
    "# otherIsp = otherIsp.sort_values(by = ['OtherISP'], ascending=False)\n",
    "\n",
    "final"
   ]
  },
  {
   "cell_type": "code",
   "execution_count": 13,
   "id": "1e5a8ff9",
   "metadata": {},
   "outputs": [],
   "source": [
    "# #participant networks\n",
    "\n",
    "# airtel = df[['town','Airtel']][df['Airtel']==\"Oui\"]\n",
    "# airtel = airtel.groupby('town').agg({'Airtel': 'count'})\n",
    "# responses = pd.Series(count)\n",
    "# networks_df =  pd.concat([responses,airtel], axis=1, join='outer')\n",
    "# networks_df.fillna(0, inplace=True)\n",
    "# networks_df['Airtel'] = networks_df['Airtel'].astype(int)\n",
    "# networks_df.rename(columns={networks_df.columns[0]: 'Total Number of Responses'}, inplace=True)\n",
    "# networks_df['% Airtel'] = round((networks_df['Airtel'\\\n",
    "#                                         ]/networks_df['Total Number of Responses'])*100, 2)\n",
    "\n",
    "# vodacom = df[['town','Vodacom']][df['Vodacom']==\"Oui\"]\n",
    "# vodacom = vodacom.groupby('town').agg({'Vodacom': 'count'})\n",
    "# networks_df =  pd.concat([networks_df,vodacom], axis=1, join='outer')\n",
    "# networks_df.fillna(0, inplace=True)\n",
    "# networks_df['Vodacom'] = networks_df['Vodacom'].astype(int)\n",
    "# networks_df['% Vodacom'] = round((networks_df['Vodacom'\\\n",
    "#                                         ]/networks_df['Total Number of Responses'])*100, 2)\n",
    "\n",
    "# orange = df[['town','Orange']][df['Orange']==\"Oui\"]\n",
    "# orange = orange.groupby('town').agg({'Orange': 'count'})\n",
    "# networks_df =  pd.concat([networks_df,orange], axis=1, join='outer')\n",
    "# networks_df.fillna(0, inplace=True)\n",
    "# networks_df['Orange'] = networks_df['Orange'].astype(int)\n",
    "# networks_df['% Orange'] = round((networks_df['Orange'\\\n",
    "#                                         ]/networks_df['Total Number of Responses'])*100, 2)\n",
    "\n",
    "# otherIsp = df[['town','OtherISP']][df['OtherISP']==\"Oui\"]\n",
    "# otherIsp = otherIsp.groupby('town').agg({'OtherISP': 'count'})\n",
    "# networks_df =  pd.concat([networks_df,otherIsp], axis=1, join='outer')\n",
    "# networks_df.fillna(0, inplace=True)\n",
    "# networks_df['OtherISP'] = networks_df['OtherISP'].astype(int)\n",
    "# networks_df['% OtherISP'] = round((networks_df['OtherISP'\\\n",
    "#                                         ]/networks_df['Total Number of Responses'])*100, 2)\n",
    "\n",
    "# # networks_df.reset_index(inplace =True)\n",
    "# # networks_df = networks_df.drop('index', axis =1)\n",
    "# networks_df"
   ]
  },
  {
   "cell_type": "code",
   "execution_count": 14,
   "id": "181d95ba",
   "metadata": {},
   "outputs": [
    {
     "data": {
      "image/png": "[encoded data removed]",
      "text/plain": [
       "<Figure size 360x216 with 1 Axes>"
      ]
     },
     "metadata": {
      "needs_background": "light"
     },
     "output_type": "display_data"
    },
    {
     "data": {
      "image/png": "[encoded data removed]",
      "text/plain": [
       "<Figure size 360x216 with 1 Axes>"
      ]
     },
     "metadata": {
      "needs_background": "light"
     },
     "output_type": "display_data"
    },
    {
     "data": {
      "image/png": "[encoded data removed]",
      "text/plain": [
       "<Figure size 360x216 with 1 Axes>"
      ]
     },
     "metadata": {
      "needs_background": "light"
     },
     "output_type": "display_data"
    },
    {
     "data": {
      "image/png": "[encoded data removed]",
      "text/plain": [
       "<Figure size 360x216 with 1 Axes>"
      ]
     },
     "metadata": {
      "needs_background": "light"
     },
     "output_type": "display_data"
    }
   ],
   "source": [
    "list_satisfied = [satisfied,internet_verysatisfied,internet_neutral, internet_dissatisfied]\n",
    "for a_df in list_satisfied:\n",
    "    \n",
    "    a_df = a_df.iloc[::-1] ##Reversing the index to have the higher values on top\n",
    "\n",
    "\n",
    "    ax = a_df.plot(kind='barh', width=.9, figsize=(5,3), color='darkseagreen')\n",
    "\n",
    "    for spine in ax.spines:\n",
    "        ax.spines[spine].set_visible(False)\n",
    "    ax.tick_params(axis = 'both', which = 'major', labelsize = 14)\n",
    "    ax.yaxis.tick_right()\n",
    "    ax.tick_params(axis=\"y\", which='major', length=0)\n",
    "    ax.tick_params(axis=\"y\",direction=\"in\", pad=-275)\n",
    "    ax.xaxis.tick_top()\n",
    "    ax.xaxis.set_label_position('top') \n",
    "    ax.set_xlabel('Number of Responses', fontdict={'fontsize': 13})\n",
    "    ax.set_xticks([0,2,4,6,8,10,12,14,16])\n",
    "    #plt.savefig('figures/network_responses.pdf', bbox_inches = 'tight')\n",
    "    plt.show()\n"
   ]
  },
  {
   "cell_type": "code",
   "execution_count": 15,
   "id": "2fb88fa3",
   "metadata": {},
   "outputs": [
    {
     "data": {
      "text/html": [
       "<div>\n",
       "<style scoped>\n",
       "    .dataframe tbody tr th:only-of-type {\n",
       "        vertical-align: middle;\n",
       "    }\n",
       "\n",
       "    .dataframe tbody tr th {\n",
       "        vertical-align: top;\n",
       "    }\n",
       "\n",
       "    .dataframe thead th {\n",
       "        text-align: right;\n",
       "    }\n",
       "</style>\n",
       "<table border=\"1\" class=\"dataframe\">\n",
       "  <thead>\n",
       "    <tr style=\"text-align: right;\">\n",
       "      <th></th>\n",
       "      <th>Total Number of Responses</th>\n",
       "      <th>speedtest_veryconcerned</th>\n",
       "      <th>% Running very concerned</th>\n",
       "    </tr>\n",
       "  </thead>\n",
       "  <tbody>\n",
       "    <tr>\n",
       "      <th>Goma</th>\n",
       "      <td>31</td>\n",
       "      <td>16.0</td>\n",
       "      <td>51.61</td>\n",
       "    </tr>\n",
       "    <tr>\n",
       "      <th>Kinshasa</th>\n",
       "      <td>24</td>\n",
       "      <td>19.0</td>\n",
       "      <td>79.17</td>\n",
       "    </tr>\n",
       "    <tr>\n",
       "      <th>Bukavu</th>\n",
       "      <td>9</td>\n",
       "      <td>5.0</td>\n",
       "      <td>55.56</td>\n",
       "    </tr>\n",
       "    <tr>\n",
       "      <th>Lubumbashi</th>\n",
       "      <td>8</td>\n",
       "      <td>5.0</td>\n",
       "      <td>62.50</td>\n",
       "    </tr>\n",
       "    <tr>\n",
       "      <th>Beni</th>\n",
       "      <td>3</td>\n",
       "      <td>2.0</td>\n",
       "      <td>66.67</td>\n",
       "    </tr>\n",
       "    <tr>\n",
       "      <th>Kananga</th>\n",
       "      <td>1</td>\n",
       "      <td>1.0</td>\n",
       "      <td>100.00</td>\n",
       "    </tr>\n",
       "    <tr>\n",
       "      <th>Isiro</th>\n",
       "      <td>1</td>\n",
       "      <td>1.0</td>\n",
       "      <td>100.00</td>\n",
       "    </tr>\n",
       "    <tr>\n",
       "      <th>Mbujimayi</th>\n",
       "      <td>1</td>\n",
       "      <td>1.0</td>\n",
       "      <td>100.00</td>\n",
       "    </tr>\n",
       "    <tr>\n",
       "      <th>Bunia</th>\n",
       "      <td>1</td>\n",
       "      <td>1.0</td>\n",
       "      <td>100.00</td>\n",
       "    </tr>\n",
       "    <tr>\n",
       "      <th>Moba</th>\n",
       "      <td>1</td>\n",
       "      <td>NaN</td>\n",
       "      <td>NaN</td>\n",
       "    </tr>\n",
       "    <tr>\n",
       "      <th>Kambove</th>\n",
       "      <td>1</td>\n",
       "      <td>1.0</td>\n",
       "      <td>100.00</td>\n",
       "    </tr>\n",
       "    <tr>\n",
       "      <th>Kisangani</th>\n",
       "      <td>1</td>\n",
       "      <td>NaN</td>\n",
       "      <td>NaN</td>\n",
       "    </tr>\n",
       "  </tbody>\n",
       "</table>\n",
       "</div>"
      ],
      "text/plain": [
       "            Total Number of Responses  speedtest_veryconcerned  \\\n",
       "Goma                               31                     16.0   \n",
       "Kinshasa                           24                     19.0   \n",
       "Bukavu                              9                      5.0   \n",
       "Lubumbashi                          8                      5.0   \n",
       "Beni                                3                      2.0   \n",
       "Kananga                             1                      1.0   \n",
       "Isiro                               1                      1.0   \n",
       "Mbujimayi                           1                      1.0   \n",
       "Bunia                               1                      1.0   \n",
       "Moba                                1                      NaN   \n",
       "Kambove                             1                      1.0   \n",
       "Kisangani                           1                      NaN   \n",
       "\n",
       "            % Running very concerned  \n",
       "Goma                           51.61  \n",
       "Kinshasa                       79.17  \n",
       "Bukavu                         55.56  \n",
       "Lubumbashi                     62.50  \n",
       "Beni                           66.67  \n",
       "Kananga                       100.00  \n",
       "Isiro                         100.00  \n",
       "Mbujimayi                     100.00  \n",
       "Bunia                         100.00  \n",
       "Moba                             NaN  \n",
       "Kambove                       100.00  \n",
       "Kisangani                        NaN  "
      ]
     },
     "execution_count": 15,
     "metadata": {},
     "output_type": "execute_result"
    }
   ],
   "source": [
    "#Whether a business category has run some measurement or not\n",
    "\n",
    "def internetspeedconcern():\n",
    "    internetspeed = df[['town', 'speedtest_veryconcerned']][df['speedtest_veryconcerned']==\"Oui\"]\n",
    "    internetspeed = internetspeed.groupby('town').agg({'speedtest_veryconcerned': 'count'})\n",
    "    responses = pd.Series(count)\n",
    "    final = pd.concat([responses, internetspeed], axis=1, join='outer')\n",
    "    final.rename(columns={final.columns[0]: 'Total Number of Responses'}, inplace=True)    \n",
    "    final['% Running very concerned'] = round((final['speedtest_veryconcerned']\\\n",
    "                                            /final['Total Number of Responses'])*100, 2)\n",
    "    final = final.sort_values(by = ['Total Number of Responses'], ascending=False)\n",
    "    return final\n",
    "internetspeedconcern()"
   ]
  },
  {
   "cell_type": "code",
   "execution_count": 16,
   "id": "de3de1f6",
   "metadata": {},
   "outputs": [
    {
     "data": {
      "text/plain": [
       "'Orange'"
      ]
     },
     "execution_count": 16,
     "metadata": {},
     "output_type": "execute_result"
    }
   ],
   "source": [
    "file.columns[93].split('[')[1].split(']')[0]"
   ]
  },
  {
   "cell_type": "code",
   "execution_count": 17,
   "id": "0f2c91f3",
   "metadata": {},
   "outputs": [
    {
     "name": "stdout",
     "output_type": "stream",
     "text": [
      "       Airtel  Vodacom  Orange  Supercell  Autres/Other\n",
      "0         1.0      0.0     1.0        0.0           0.0\n",
      "1         1.0      0.0     0.0        0.0           0.0\n",
      "2         1.0      1.0     1.0        0.0           0.0\n",
      "3         1.0      1.0     1.0        0.0           0.0\n",
      "4         1.0      0.0     0.0        0.0           0.0\n",
      "...       ...      ...     ...        ...           ...\n",
      "78        0.0      1.0     1.0        0.0           0.0\n",
      "79        1.0      0.0     1.0        0.0           0.0\n",
      "80        1.0      1.0     0.0        0.0           0.0\n",
      "81        1.0      0.0     0.0        0.0           0.0\n",
      "Total    61.0     26.0    41.0        1.0           6.0\n",
      "\n",
      "[83 rows x 5 columns]\n"
     ]
    },
    {
     "data": {
      "image/png": "[encoded data removed]",
      "text/plain": [
       "<Figure size 576x360 with 1 Axes>"
      ]
     },
     "metadata": {
      "needs_background": "light"
     },
     "output_type": "display_data"
    }
   ],
   "source": [
    "#Les quels de ces aspects influencent le plus votre qualite d'experience sur Internet [Le temps de chargement d'un site web / The loading time of a website]\n",
    "\n",
    "#Purpose of Running Business\n",
    "def purpose_of_measurement():\n",
    "    columns =[\n",
    "              'À quel fournisseur de réseau êtes-vous abonné ?/ To which network service provider are you subscribed to? [Airtel]',\n",
    "              'À quel fournisseur de réseau êtes-vous abonné ?/ To which network service provider are you subscribed to? [Vodacom]',\n",
    "              'À quel fournisseur de réseau êtes-vous abonné ?/ To which network service provider are you subscribed to? [Orange]',\n",
    "              'À quel fournisseur de réseau êtes-vous abonné ?/ To which network service provider are you subscribed to? [Supercell]',\n",
    "              'À quel fournisseur de réseau êtes-vous abonné ?/ To which network service provider are you subscribed to? [Autres/Other]']\n",
    "    df1 = file[columns]\n",
    "    df1.replace(('Oui', 'Non'), (1, 0), inplace=True)\n",
    "    for col in df1.columns:\n",
    "        name = col.split('[')[1].split(']')[0]\n",
    "        df1.rename(columns={col:name}, inplace=True)\n",
    "    #df1['Autres/Other'] = df1['Autres/Other'].notnull().astype(int) #Change any text in the column to 1 and NaN to 0\n",
    "    df1.loc['Total',:]= df1.sum(axis=0)\n",
    "    print(df1)\n",
    "    data = df1.T['Total'].sort_values()\n",
    "    ax = data.plot(kind='barh', width=.9, figsize=(8,5), color='darkseagreen')\n",
    "    for spine in ax.spines:\n",
    "        ax.spines[spine].set_visible(False)\n",
    "        \n",
    "    ax.tick_params(axis = 'both', which = 'major', labelsize = 14)\n",
    "    ax.yaxis.tick_right()\n",
    "    ax.tick_params(axis=\"y\", which='major', length=0)\n",
    "    ax.tick_params(axis=\"y\",direction=\"in\", pad=-440)\n",
    "    ax.xaxis.tick_top()\n",
    "    ax.xaxis.set_label_position('top') \n",
    "    ax.set_xlabel('Number of Responses', fontdict={'fontsize': 13})\n",
    "    ax.set_xticks([0,10,20,30,40,50,60,70])\n",
    "    #plt.savefig('figures/hinder.pdf', bbox_inches = 'tight')\n",
    "    plt.show()\n",
    "    \n",
    "    return\n",
    "purpose_of_measurement()"
   ]
  },
  {
   "cell_type": "code",
   "execution_count": 18,
   "id": "1b38bb53",
   "metadata": {},
   "outputs": [
    {
     "name": "stdout",
     "output_type": "stream",
     "text": [
      "35 participants use at least 2 networks, which represents 42.68 % of the total respodants\n"
     ]
    }
   ],
   "source": [
    "#participants who happen to be subscribed to both Airtel and Vodacom  OR both Airtel and Orange \n",
    "shared_networks = len (file.iloc[:,91:96][(((file.iloc[:,91]=='Oui') & (file.iloc[:,92]=='Oui')) |((file.iloc[:,91]=='Oui') & (file.iloc[:,93]=='Oui')))])\n",
    "shared_percent = round (shared_networks / len (df)*100, 2)\n",
    "print(\"{} participants use at least 2 networks, which represents {} % of the total respodants\".format(shared_networks, shared_percent))"
   ]
  },
  {
   "cell_type": "code",
   "execution_count": 21,
   "id": "cce7f5f8",
   "metadata": {},
   "outputs": [
    {
     "name": "stdout",
     "output_type": "stream",
     "text": [
      "{'option_Important': 47.56, 'option_Extremement important /Extremely important': 47.56, 'option_Pas important / Not important': 4.88}\n"
     ]
    },
    {
     "data": {
      "image/png": "[encoded data removed]",
      "text/plain": [
       "<Figure size 360x216 with 1 Axes>"
      ]
     },
     "metadata": {
      "needs_background": "light"
     },
     "output_type": "display_data"
    }
   ],
   "source": [
    "def likert():\n",
    "    df1 = file[['town', \n",
    "              'qoe_pageloadingtime']]\n",
    "    \n",
    "    df1.set_index('town', inplace=True)\n",
    "    df1.dropna(inplace=True)\n",
    "    \n",
    "    likert={} \n",
    "    grouped={}\n",
    "    for value in df1['qoe_pageloadingtime'].unique():\n",
    "        option = \"option_{}\".format(value)\n",
    "        likert[option] = df1.loc[df1['qoe_pageloadingtime'] == value]\n",
    "        total = likert[option].groupby(level=0).describe()['qoe_pageloadingtime', 'count'].sum()\n",
    "        percent = round((total/total_responses)*100, 2)\n",
    "        grouped.update({option:percent})\n",
    "    \n",
    "    print(grouped)\n",
    "    \n",
    "    grouped['Important'] = grouped.pop('option_Important')\n",
    "    grouped['Extremely Important'] = grouped.pop('option_Extremement important /Extremely important')\n",
    "    grouped['Not important'] = grouped.pop('option_Pas important / Not important')\n",
    "#     grouped['Satisfied'] = grouped.pop('option_4')\n",
    "#     grouped['Highly Satisfied'] = grouped.pop('option_5')\n",
    "    \n",
    "    fig, ax = plt.subplots(figsize=(5,3))\n",
    "    bars = plt.barh(*zip(*grouped.items()), height=.9, color='darkseagreen')\n",
    "    \n",
    "    for spine in ax.spines:\n",
    "        ax.spines[spine].set_visible(False)\n",
    "    \n",
    "    ax.tick_params(axis = 'both', which = 'major', labelsize = 14)\n",
    "    ax.set_xlabel('Satisfaction Level (%)', fontdict={'fontsize': 13})\n",
    "    ax.set_xticks([0, 10, 20, 30, 40, 50])\n",
    "    ax.xaxis.tick_top()\n",
    "    ax.xaxis.set_label_position('top')\n",
    "    #plt.savefig('figures/likert.pdf', bbox_inches = 'tight')        \n",
    "    return\n",
    "likert()"
   ]
  },
  {
   "cell_type": "code",
   "execution_count": null,
   "id": "d8e9220e",
   "metadata": {},
   "outputs": [],
   "source": [
    "file.columns[68]"
   ]
  },
  {
   "cell_type": "code",
   "execution_count": null,
   "id": "d705582d",
   "metadata": {},
   "outputs": [],
   "source": []
  }
 ],
 "metadata": {
  "kernelspec": {
   "display_name": "Python 3 (ipykernel)",
   "language": "python",
   "name": "python3"
  },
  "language_info": {
   "codemirror_mode": {
    "name": "ipython",
    "version": 3
   },
   "file_extension": ".py",
   "mimetype": "text/x-python",
   "name": "python",
   "nbconvert_exporter": "python",
   "pygments_lexer": "ipython3",
   "version": "3.9.12"
  }
 },
 "nbformat": 4,
 "nbformat_minor": 5
}
